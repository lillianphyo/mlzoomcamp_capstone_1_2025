{
 "cells": [
  {
   "cell_type": "code",
   "execution_count": 17,
   "id": "d84b2a21-893f-4dd2-9298-04fae346099d",
   "metadata": {},
   "outputs": [],
   "source": [
    "#importing the libraries\n",
    "import numpy as np\n",
    "import pandas as pd\n",
    "import matplotlib.pyplot as plt\n",
    "import datetime\n",
    "import boto3"
   ]
  },
  {
   "cell_type": "code",
   "execution_count": 18,
   "id": "374dd558-7c28-4b9d-a1da-19e8d77aa2d6",
   "metadata": {},
   "outputs": [],
   "source": [
    "def handler(event, context):\n",
    "    start_time = event['start_time']\n",
    "    end_time = event ['end_time']\n",
    "    region = event['region']\n",
    "    product_description = event['product_description']\n",
    "    client = boto3.client('ec2', region_name=region)\n",
    "    response = client.describe_spot_price_history(\n",
    "        InstanceTypes=event['instances_list'],\n",
    "        ProductDescriptions=product_description,\n",
    "        StartTime=start_time,\n",
    "        EndTime = end_time,\n",
    "        MaxResults=10000\n",
    "    )\n",
    "    return response['SpotPriceHistory']"
   ]
  },
  {
   "cell_type": "code",
   "execution_count": 22,
   "id": "a26fea4c-d3e0-4630-a584-f788838bb4d4",
   "metadata": {},
   "outputs": [],
   "source": [
    "def wrapper(instanceList, ProductDescriptionList, region):\n",
    "    m4_list = []\n",
    "    for i in range(1,90):\n",
    "        output = (handler({\n",
    "        'instances_list': instanceList,\n",
    "        'start_time': datetime.datetime.now() - datetime.timedelta(i),\n",
    "        'end_time': datetime.datetime.now() - datetime.timedelta(i-1),\n",
    "        'product_description': ProductDescriptionList,\n",
    "        'region': region\n",
    "    }, ''))\n",
    "        for j in range(0,len(output)):\n",
    "            m4_list.append(output[j])\n",
    "\n",
    "    df = pd.DataFrame(m4_list)\n",
    "    df = df.drop_duplicates()\n",
    "    df.reset_index(drop=True,inplace=True)\n",
    "    return df"
   ]
  },
  {
   "cell_type": "code",
   "execution_count": 25,
   "id": "e035ebe2-7d41-47cf-ac0b-87c36b78bc46",
   "metadata": {},
   "outputs": [
    {
     "data": {
      "text/html": [
       "<div>\n",
       "<style scoped>\n",
       "    .dataframe tbody tr th:only-of-type {\n",
       "        vertical-align: middle;\n",
       "    }\n",
       "\n",
       "    .dataframe tbody tr th {\n",
       "        vertical-align: top;\n",
       "    }\n",
       "\n",
       "    .dataframe thead th {\n",
       "        text-align: right;\n",
       "    }\n",
       "</style>\n",
       "<table border=\"1\" class=\"dataframe\">\n",
       "  <thead>\n",
       "    <tr style=\"text-align: right;\">\n",
       "      <th></th>\n",
       "      <th>AvailabilityZone</th>\n",
       "      <th>InstanceType</th>\n",
       "      <th>ProductDescription</th>\n",
       "      <th>SpotPrice</th>\n",
       "      <th>Timestamp</th>\n",
       "    </tr>\n",
       "  </thead>\n",
       "  <tbody>\n",
       "    <tr>\n",
       "      <th>0</th>\n",
       "      <td>us-west-2b</td>\n",
       "      <td>m4.xlarge</td>\n",
       "      <td>Linux/UNIX</td>\n",
       "      <td>0.069400</td>\n",
       "      <td>2025-01-14 02:18:16+00:00</td>\n",
       "    </tr>\n",
       "    <tr>\n",
       "      <th>1</th>\n",
       "      <td>us-west-2b</td>\n",
       "      <td>m4.large</td>\n",
       "      <td>Linux/UNIX</td>\n",
       "      <td>0.037500</td>\n",
       "      <td>2025-01-14 02:02:19+00:00</td>\n",
       "    </tr>\n",
       "    <tr>\n",
       "      <th>2</th>\n",
       "      <td>us-west-2a</td>\n",
       "      <td>m4.large</td>\n",
       "      <td>Linux/UNIX</td>\n",
       "      <td>0.038600</td>\n",
       "      <td>2025-01-14 01:47:22+00:00</td>\n",
       "    </tr>\n",
       "    <tr>\n",
       "      <th>3</th>\n",
       "      <td>us-west-2a</td>\n",
       "      <td>m4.xlarge</td>\n",
       "      <td>Linux/UNIX</td>\n",
       "      <td>0.074100</td>\n",
       "      <td>2025-01-13 23:17:13+00:00</td>\n",
       "    </tr>\n",
       "    <tr>\n",
       "      <th>4</th>\n",
       "      <td>us-west-2c</td>\n",
       "      <td>m4.large</td>\n",
       "      <td>Linux/UNIX</td>\n",
       "      <td>0.037200</td>\n",
       "      <td>2025-01-13 23:02:25+00:00</td>\n",
       "    </tr>\n",
       "    <tr>\n",
       "      <th>...</th>\n",
       "      <td>...</td>\n",
       "      <td>...</td>\n",
       "      <td>...</td>\n",
       "      <td>...</td>\n",
       "      <td>...</td>\n",
       "    </tr>\n",
       "    <tr>\n",
       "      <th>1653</th>\n",
       "      <td>us-west-2c</td>\n",
       "      <td>m4.large</td>\n",
       "      <td>Linux/UNIX</td>\n",
       "      <td>0.032500</td>\n",
       "      <td>2024-10-17 08:02:19+00:00</td>\n",
       "    </tr>\n",
       "    <tr>\n",
       "      <th>1654</th>\n",
       "      <td>us-west-2b</td>\n",
       "      <td>m4.xlarge</td>\n",
       "      <td>Linux/UNIX</td>\n",
       "      <td>0.055200</td>\n",
       "      <td>2024-10-17 07:32:10+00:00</td>\n",
       "    </tr>\n",
       "    <tr>\n",
       "      <th>1655</th>\n",
       "      <td>us-west-2a</td>\n",
       "      <td>m4.large</td>\n",
       "      <td>Linux/UNIX</td>\n",
       "      <td>0.034400</td>\n",
       "      <td>2024-10-17 06:33:33+00:00</td>\n",
       "    </tr>\n",
       "    <tr>\n",
       "      <th>1656</th>\n",
       "      <td>us-west-2a</td>\n",
       "      <td>m4.xlarge</td>\n",
       "      <td>Linux/UNIX</td>\n",
       "      <td>0.057500</td>\n",
       "      <td>2024-10-17 03:02:27+00:00</td>\n",
       "    </tr>\n",
       "    <tr>\n",
       "      <th>1657</th>\n",
       "      <td>us-west-2b</td>\n",
       "      <td>m4.large</td>\n",
       "      <td>Linux/UNIX</td>\n",
       "      <td>0.034000</td>\n",
       "      <td>2024-10-16 19:48:22+00:00</td>\n",
       "    </tr>\n",
       "  </tbody>\n",
       "</table>\n",
       "<p>1658 rows × 5 columns</p>\n",
       "</div>"
      ],
      "text/plain": [
       "     AvailabilityZone InstanceType ProductDescription SpotPrice  \\\n",
       "0          us-west-2b    m4.xlarge         Linux/UNIX  0.069400   \n",
       "1          us-west-2b     m4.large         Linux/UNIX  0.037500   \n",
       "2          us-west-2a     m4.large         Linux/UNIX  0.038600   \n",
       "3          us-west-2a    m4.xlarge         Linux/UNIX  0.074100   \n",
       "4          us-west-2c     m4.large         Linux/UNIX  0.037200   \n",
       "...               ...          ...                ...       ...   \n",
       "1653       us-west-2c     m4.large         Linux/UNIX  0.032500   \n",
       "1654       us-west-2b    m4.xlarge         Linux/UNIX  0.055200   \n",
       "1655       us-west-2a     m4.large         Linux/UNIX  0.034400   \n",
       "1656       us-west-2a    m4.xlarge         Linux/UNIX  0.057500   \n",
       "1657       us-west-2b     m4.large         Linux/UNIX  0.034000   \n",
       "\n",
       "                     Timestamp  \n",
       "0    2025-01-14 02:18:16+00:00  \n",
       "1    2025-01-14 02:02:19+00:00  \n",
       "2    2025-01-14 01:47:22+00:00  \n",
       "3    2025-01-13 23:17:13+00:00  \n",
       "4    2025-01-13 23:02:25+00:00  \n",
       "...                        ...  \n",
       "1653 2024-10-17 08:02:19+00:00  \n",
       "1654 2024-10-17 07:32:10+00:00  \n",
       "1655 2024-10-17 06:33:33+00:00  \n",
       "1656 2024-10-17 03:02:27+00:00  \n",
       "1657 2024-10-16 19:48:22+00:00  \n",
       "\n",
       "[1658 rows x 5 columns]"
      ]
     },
     "execution_count": 25,
     "metadata": {},
     "output_type": "execute_result"
    }
   ],
   "source": [
    "df = wrapper(['m4.large', 'm4.xlarge'],['Linux/UNIX (Amazon VPC)'], 'us-west-2')\n",
    "df"
   ]
  },
  {
   "cell_type": "code",
   "execution_count": 15,
   "id": "3de42d1d-b1ac-4e9f-98cc-b4649f6057fd",
   "metadata": {},
   "outputs": [
    {
     "data": {
      "text/plain": [
       "(7182, 5)"
      ]
     },
     "execution_count": 15,
     "metadata": {},
     "output_type": "execute_result"
    }
   ],
   "source": [
    "# df=pd.read_csv('../data/p2-east-1b.csv')\n",
    "# df.shape"
   ]
  },
  {
   "cell_type": "code",
   "execution_count": 26,
   "id": "0cd360e8-0c60-4ace-bc64-b4b3c687b7a3",
   "metadata": {},
   "outputs": [
    {
     "data": {
      "text/html": [
       "<div>\n",
       "<style scoped>\n",
       "    .dataframe tbody tr th:only-of-type {\n",
       "        vertical-align: middle;\n",
       "    }\n",
       "\n",
       "    .dataframe tbody tr th {\n",
       "        vertical-align: top;\n",
       "    }\n",
       "\n",
       "    .dataframe thead th {\n",
       "        text-align: right;\n",
       "    }\n",
       "</style>\n",
       "<table border=\"1\" class=\"dataframe\">\n",
       "  <thead>\n",
       "    <tr style=\"text-align: right;\">\n",
       "      <th></th>\n",
       "      <th>AvailabilityZone</th>\n",
       "      <th>InstanceType</th>\n",
       "      <th>ProductDescription</th>\n",
       "      <th>SpotPrice</th>\n",
       "      <th>Timestamp</th>\n",
       "    </tr>\n",
       "  </thead>\n",
       "  <tbody>\n",
       "    <tr>\n",
       "      <th>0</th>\n",
       "      <td>us-west-2b</td>\n",
       "      <td>m4.xlarge</td>\n",
       "      <td>Linux/UNIX</td>\n",
       "      <td>0.069400</td>\n",
       "      <td>2025-01-14 02:18:16+00:00</td>\n",
       "    </tr>\n",
       "    <tr>\n",
       "      <th>1</th>\n",
       "      <td>us-west-2b</td>\n",
       "      <td>m4.large</td>\n",
       "      <td>Linux/UNIX</td>\n",
       "      <td>0.037500</td>\n",
       "      <td>2025-01-14 02:02:19+00:00</td>\n",
       "    </tr>\n",
       "    <tr>\n",
       "      <th>2</th>\n",
       "      <td>us-west-2a</td>\n",
       "      <td>m4.large</td>\n",
       "      <td>Linux/UNIX</td>\n",
       "      <td>0.038600</td>\n",
       "      <td>2025-01-14 01:47:22+00:00</td>\n",
       "    </tr>\n",
       "    <tr>\n",
       "      <th>3</th>\n",
       "      <td>us-west-2a</td>\n",
       "      <td>m4.xlarge</td>\n",
       "      <td>Linux/UNIX</td>\n",
       "      <td>0.074100</td>\n",
       "      <td>2025-01-13 23:17:13+00:00</td>\n",
       "    </tr>\n",
       "    <tr>\n",
       "      <th>4</th>\n",
       "      <td>us-west-2c</td>\n",
       "      <td>m4.large</td>\n",
       "      <td>Linux/UNIX</td>\n",
       "      <td>0.037200</td>\n",
       "      <td>2025-01-13 23:02:25+00:00</td>\n",
       "    </tr>\n",
       "  </tbody>\n",
       "</table>\n",
       "</div>"
      ],
      "text/plain": [
       "  AvailabilityZone InstanceType ProductDescription SpotPrice  \\\n",
       "0       us-west-2b    m4.xlarge         Linux/UNIX  0.069400   \n",
       "1       us-west-2b     m4.large         Linux/UNIX  0.037500   \n",
       "2       us-west-2a     m4.large         Linux/UNIX  0.038600   \n",
       "3       us-west-2a    m4.xlarge         Linux/UNIX  0.074100   \n",
       "4       us-west-2c     m4.large         Linux/UNIX  0.037200   \n",
       "\n",
       "                  Timestamp  \n",
       "0 2025-01-14 02:18:16+00:00  \n",
       "1 2025-01-14 02:02:19+00:00  \n",
       "2 2025-01-14 01:47:22+00:00  \n",
       "3 2025-01-13 23:17:13+00:00  \n",
       "4 2025-01-13 23:02:25+00:00  "
      ]
     },
     "execution_count": 26,
     "metadata": {},
     "output_type": "execute_result"
    }
   ],
   "source": [
    "df.head()"
   ]
  },
  {
   "cell_type": "code",
   "execution_count": 27,
   "id": "780b45ce-79cd-49a1-a018-984b9826c4fe",
   "metadata": {},
   "outputs": [
    {
     "data": {
      "text/plain": [
       "AvailabilityZone\n",
       "us-west-2c    555\n",
       "us-west-2b    553\n",
       "us-west-2a    550\n",
       "Name: count, dtype: int64"
      ]
     },
     "execution_count": 27,
     "metadata": {},
     "output_type": "execute_result"
    }
   ],
   "source": [
    "df.AvailabilityZone.value_counts()"
   ]
  },
  {
   "cell_type": "code",
   "execution_count": 28,
   "id": "673edf8a-aafe-4828-b043-9291f2ebc07e",
   "metadata": {},
   "outputs": [
    {
     "data": {
      "text/plain": [
       "ProductDescription\n",
       "Linux/UNIX    1658\n",
       "Name: count, dtype: int64"
      ]
     },
     "execution_count": 28,
     "metadata": {},
     "output_type": "execute_result"
    }
   ],
   "source": [
    "df.ProductDescription.value_counts()"
   ]
  },
  {
   "cell_type": "code",
   "execution_count": 29,
   "id": "b4a13f45-b7ec-406a-8704-97e4df76e3c6",
   "metadata": {},
   "outputs": [
    {
     "data": {
      "text/plain": [
       "AvailabilityZone                       object\n",
       "InstanceType                           object\n",
       "ProductDescription                     object\n",
       "SpotPrice                              object\n",
       "Timestamp             datetime64[ns, tzutc()]\n",
       "dtype: object"
      ]
     },
     "execution_count": 29,
     "metadata": {},
     "output_type": "execute_result"
    }
   ],
   "source": [
    "df.dtypes"
   ]
  },
  {
   "cell_type": "code",
   "execution_count": 30,
   "id": "a6af11b3-e7c6-40e2-bc47-9811437eba2a",
   "metadata": {},
   "outputs": [
    {
     "data": {
      "text/html": [
       "<div>\n",
       "<style scoped>\n",
       "    .dataframe tbody tr th:only-of-type {\n",
       "        vertical-align: middle;\n",
       "    }\n",
       "\n",
       "    .dataframe tbody tr th {\n",
       "        vertical-align: top;\n",
       "    }\n",
       "\n",
       "    .dataframe thead th {\n",
       "        text-align: right;\n",
       "    }\n",
       "</style>\n",
       "<table border=\"1\" class=\"dataframe\">\n",
       "  <thead>\n",
       "    <tr style=\"text-align: right;\">\n",
       "      <th></th>\n",
       "      <th>AvailabilityZone</th>\n",
       "      <th>InstanceType</th>\n",
       "      <th>ProductDescription</th>\n",
       "      <th>SpotPrice</th>\n",
       "      <th>Timestamp</th>\n",
       "    </tr>\n",
       "  </thead>\n",
       "  <tbody>\n",
       "    <tr>\n",
       "      <th>2</th>\n",
       "      <td>us-west-2a</td>\n",
       "      <td>m4.large</td>\n",
       "      <td>Linux/UNIX</td>\n",
       "      <td>0.038600</td>\n",
       "      <td>2025-01-14 01:47:22+00:00</td>\n",
       "    </tr>\n",
       "    <tr>\n",
       "      <th>3</th>\n",
       "      <td>us-west-2a</td>\n",
       "      <td>m4.xlarge</td>\n",
       "      <td>Linux/UNIX</td>\n",
       "      <td>0.074100</td>\n",
       "      <td>2025-01-13 23:17:13+00:00</td>\n",
       "    </tr>\n",
       "    <tr>\n",
       "      <th>6</th>\n",
       "      <td>us-west-2a</td>\n",
       "      <td>m4.large</td>\n",
       "      <td>Linux/UNIX</td>\n",
       "      <td>0.038500</td>\n",
       "      <td>2025-01-13 22:01:53+00:00</td>\n",
       "    </tr>\n",
       "    <tr>\n",
       "      <th>9</th>\n",
       "      <td>us-west-2a</td>\n",
       "      <td>m4.xlarge</td>\n",
       "      <td>Linux/UNIX</td>\n",
       "      <td>0.073800</td>\n",
       "      <td>2025-01-13 16:18:23+00:00</td>\n",
       "    </tr>\n",
       "    <tr>\n",
       "      <th>10</th>\n",
       "      <td>us-west-2a</td>\n",
       "      <td>m4.large</td>\n",
       "      <td>Linux/UNIX</td>\n",
       "      <td>0.038400</td>\n",
       "      <td>2025-01-13 15:33:35+00:00</td>\n",
       "    </tr>\n",
       "    <tr>\n",
       "      <th>...</th>\n",
       "      <td>...</td>\n",
       "      <td>...</td>\n",
       "      <td>...</td>\n",
       "      <td>...</td>\n",
       "      <td>...</td>\n",
       "    </tr>\n",
       "    <tr>\n",
       "      <th>1647</th>\n",
       "      <td>us-west-2a</td>\n",
       "      <td>m4.large</td>\n",
       "      <td>Linux/UNIX</td>\n",
       "      <td>0.034800</td>\n",
       "      <td>2024-10-17 18:47:49+00:00</td>\n",
       "    </tr>\n",
       "    <tr>\n",
       "      <th>1650</th>\n",
       "      <td>us-west-2a</td>\n",
       "      <td>m4.large</td>\n",
       "      <td>Linux/UNIX</td>\n",
       "      <td>0.034300</td>\n",
       "      <td>2024-10-17 13:47:30+00:00</td>\n",
       "    </tr>\n",
       "    <tr>\n",
       "      <th>1651</th>\n",
       "      <td>us-west-2a</td>\n",
       "      <td>m4.xlarge</td>\n",
       "      <td>Linux/UNIX</td>\n",
       "      <td>0.057400</td>\n",
       "      <td>2024-10-17 11:47:19+00:00</td>\n",
       "    </tr>\n",
       "    <tr>\n",
       "      <th>1655</th>\n",
       "      <td>us-west-2a</td>\n",
       "      <td>m4.large</td>\n",
       "      <td>Linux/UNIX</td>\n",
       "      <td>0.034400</td>\n",
       "      <td>2024-10-17 06:33:33+00:00</td>\n",
       "    </tr>\n",
       "    <tr>\n",
       "      <th>1656</th>\n",
       "      <td>us-west-2a</td>\n",
       "      <td>m4.xlarge</td>\n",
       "      <td>Linux/UNIX</td>\n",
       "      <td>0.057500</td>\n",
       "      <td>2024-10-17 03:02:27+00:00</td>\n",
       "    </tr>\n",
       "  </tbody>\n",
       "</table>\n",
       "<p>550 rows × 5 columns</p>\n",
       "</div>"
      ],
      "text/plain": [
       "     AvailabilityZone InstanceType ProductDescription SpotPrice  \\\n",
       "2          us-west-2a     m4.large         Linux/UNIX  0.038600   \n",
       "3          us-west-2a    m4.xlarge         Linux/UNIX  0.074100   \n",
       "6          us-west-2a     m4.large         Linux/UNIX  0.038500   \n",
       "9          us-west-2a    m4.xlarge         Linux/UNIX  0.073800   \n",
       "10         us-west-2a     m4.large         Linux/UNIX  0.038400   \n",
       "...               ...          ...                ...       ...   \n",
       "1647       us-west-2a     m4.large         Linux/UNIX  0.034800   \n",
       "1650       us-west-2a     m4.large         Linux/UNIX  0.034300   \n",
       "1651       us-west-2a    m4.xlarge         Linux/UNIX  0.057400   \n",
       "1655       us-west-2a     m4.large         Linux/UNIX  0.034400   \n",
       "1656       us-west-2a    m4.xlarge         Linux/UNIX  0.057500   \n",
       "\n",
       "                     Timestamp  \n",
       "2    2025-01-14 01:47:22+00:00  \n",
       "3    2025-01-13 23:17:13+00:00  \n",
       "6    2025-01-13 22:01:53+00:00  \n",
       "9    2025-01-13 16:18:23+00:00  \n",
       "10   2025-01-13 15:33:35+00:00  \n",
       "...                        ...  \n",
       "1647 2024-10-17 18:47:49+00:00  \n",
       "1650 2024-10-17 13:47:30+00:00  \n",
       "1651 2024-10-17 11:47:19+00:00  \n",
       "1655 2024-10-17 06:33:33+00:00  \n",
       "1656 2024-10-17 03:02:27+00:00  \n",
       "\n",
       "[550 rows x 5 columns]"
      ]
     },
     "execution_count": 30,
     "metadata": {},
     "output_type": "execute_result"
    }
   ],
   "source": [
    "uwta = df.loc[df['AvailabilityZone'] == 'us-west-2a']\n",
    "uwta"
   ]
  },
  {
   "cell_type": "code",
   "execution_count": 31,
   "id": "1993479a-975b-40b3-a8a7-713660a6a1b7",
   "metadata": {},
   "outputs": [
    {
     "data": {
      "text/html": [
       "<div>\n",
       "<style scoped>\n",
       "    .dataframe tbody tr th:only-of-type {\n",
       "        vertical-align: middle;\n",
       "    }\n",
       "\n",
       "    .dataframe tbody tr th {\n",
       "        vertical-align: top;\n",
       "    }\n",
       "\n",
       "    .dataframe thead th {\n",
       "        text-align: right;\n",
       "    }\n",
       "</style>\n",
       "<table border=\"1\" class=\"dataframe\">\n",
       "  <thead>\n",
       "    <tr style=\"text-align: right;\">\n",
       "      <th></th>\n",
       "      <th>AvailabilityZone</th>\n",
       "      <th>InstanceType</th>\n",
       "      <th>ProductDescription</th>\n",
       "      <th>SpotPrice</th>\n",
       "      <th>Timestamp</th>\n",
       "    </tr>\n",
       "  </thead>\n",
       "  <tbody>\n",
       "    <tr>\n",
       "      <th>2</th>\n",
       "      <td>us-west-2a</td>\n",
       "      <td>m4.large</td>\n",
       "      <td>Linux/UNIX</td>\n",
       "      <td>0.038600</td>\n",
       "      <td>2025-01-14 01:47:22+00:00</td>\n",
       "    </tr>\n",
       "    <tr>\n",
       "      <th>6</th>\n",
       "      <td>us-west-2a</td>\n",
       "      <td>m4.large</td>\n",
       "      <td>Linux/UNIX</td>\n",
       "      <td>0.038500</td>\n",
       "      <td>2025-01-13 22:01:53+00:00</td>\n",
       "    </tr>\n",
       "    <tr>\n",
       "      <th>10</th>\n",
       "      <td>us-west-2a</td>\n",
       "      <td>m4.large</td>\n",
       "      <td>Linux/UNIX</td>\n",
       "      <td>0.038400</td>\n",
       "      <td>2025-01-13 15:33:35+00:00</td>\n",
       "    </tr>\n",
       "    <tr>\n",
       "      <th>13</th>\n",
       "      <td>us-west-2a</td>\n",
       "      <td>m4.large</td>\n",
       "      <td>Linux/UNIX</td>\n",
       "      <td>0.038300</td>\n",
       "      <td>2025-01-13 11:32:14+00:00</td>\n",
       "    </tr>\n",
       "    <tr>\n",
       "      <th>19</th>\n",
       "      <td>us-west-2a</td>\n",
       "      <td>m4.large</td>\n",
       "      <td>Linux/UNIX</td>\n",
       "      <td>0.038200</td>\n",
       "      <td>2025-01-13 03:33:35+00:00</td>\n",
       "    </tr>\n",
       "    <tr>\n",
       "      <th>...</th>\n",
       "      <td>...</td>\n",
       "      <td>...</td>\n",
       "      <td>...</td>\n",
       "      <td>...</td>\n",
       "      <td>...</td>\n",
       "    </tr>\n",
       "    <tr>\n",
       "      <th>1624</th>\n",
       "      <td>us-west-2a</td>\n",
       "      <td>m4.large</td>\n",
       "      <td>Linux/UNIX</td>\n",
       "      <td>0.034900</td>\n",
       "      <td>2024-10-19 00:17:49+00:00</td>\n",
       "    </tr>\n",
       "    <tr>\n",
       "      <th>1640</th>\n",
       "      <td>us-west-2a</td>\n",
       "      <td>m4.large</td>\n",
       "      <td>Linux/UNIX</td>\n",
       "      <td>0.034900</td>\n",
       "      <td>2024-10-18 00:17:48+00:00</td>\n",
       "    </tr>\n",
       "    <tr>\n",
       "      <th>1647</th>\n",
       "      <td>us-west-2a</td>\n",
       "      <td>m4.large</td>\n",
       "      <td>Linux/UNIX</td>\n",
       "      <td>0.034800</td>\n",
       "      <td>2024-10-17 18:47:49+00:00</td>\n",
       "    </tr>\n",
       "    <tr>\n",
       "      <th>1650</th>\n",
       "      <td>us-west-2a</td>\n",
       "      <td>m4.large</td>\n",
       "      <td>Linux/UNIX</td>\n",
       "      <td>0.034300</td>\n",
       "      <td>2024-10-17 13:47:30+00:00</td>\n",
       "    </tr>\n",
       "    <tr>\n",
       "      <th>1655</th>\n",
       "      <td>us-west-2a</td>\n",
       "      <td>m4.large</td>\n",
       "      <td>Linux/UNIX</td>\n",
       "      <td>0.034400</td>\n",
       "      <td>2024-10-17 06:33:33+00:00</td>\n",
       "    </tr>\n",
       "  </tbody>\n",
       "</table>\n",
       "<p>251 rows × 5 columns</p>\n",
       "</div>"
      ],
      "text/plain": [
       "     AvailabilityZone InstanceType ProductDescription SpotPrice  \\\n",
       "2          us-west-2a     m4.large         Linux/UNIX  0.038600   \n",
       "6          us-west-2a     m4.large         Linux/UNIX  0.038500   \n",
       "10         us-west-2a     m4.large         Linux/UNIX  0.038400   \n",
       "13         us-west-2a     m4.large         Linux/UNIX  0.038300   \n",
       "19         us-west-2a     m4.large         Linux/UNIX  0.038200   \n",
       "...               ...          ...                ...       ...   \n",
       "1624       us-west-2a     m4.large         Linux/UNIX  0.034900   \n",
       "1640       us-west-2a     m4.large         Linux/UNIX  0.034900   \n",
       "1647       us-west-2a     m4.large         Linux/UNIX  0.034800   \n",
       "1650       us-west-2a     m4.large         Linux/UNIX  0.034300   \n",
       "1655       us-west-2a     m4.large         Linux/UNIX  0.034400   \n",
       "\n",
       "                     Timestamp  \n",
       "2    2025-01-14 01:47:22+00:00  \n",
       "6    2025-01-13 22:01:53+00:00  \n",
       "10   2025-01-13 15:33:35+00:00  \n",
       "13   2025-01-13 11:32:14+00:00  \n",
       "19   2025-01-13 03:33:35+00:00  \n",
       "...                        ...  \n",
       "1624 2024-10-19 00:17:49+00:00  \n",
       "1640 2024-10-18 00:17:48+00:00  \n",
       "1647 2024-10-17 18:47:49+00:00  \n",
       "1650 2024-10-17 13:47:30+00:00  \n",
       "1655 2024-10-17 06:33:33+00:00  \n",
       "\n",
       "[251 rows x 5 columns]"
      ]
     },
     "execution_count": 31,
     "metadata": {},
     "output_type": "execute_result"
    }
   ],
   "source": [
    "uwta_m4 = uwta.loc[uwta['InstanceType'] == 'm4.large']\n",
    "uwta_m4"
   ]
  },
  {
   "cell_type": "code",
   "execution_count": 32,
   "id": "ff0cc34b-223a-4f3d-8e5c-23bfb78ea711",
   "metadata": {},
   "outputs": [
    {
     "name": "stderr",
     "output_type": "stream",
     "text": [
      "/tmp/ipykernel_15570/2118808837.py:15: FutureWarning: 'H' is deprecated and will be removed in a future version, please use 'h' instead.\n",
      "  uwta_m4_hour = uwta_m4.resample('H').mean()\n"
     ]
    },
    {
     "data": {
      "text/html": [
       "<div>\n",
       "<style scoped>\n",
       "    .dataframe tbody tr th:only-of-type {\n",
       "        vertical-align: middle;\n",
       "    }\n",
       "\n",
       "    .dataframe tbody tr th {\n",
       "        vertical-align: top;\n",
       "    }\n",
       "\n",
       "    .dataframe thead th {\n",
       "        text-align: right;\n",
       "    }\n",
       "</style>\n",
       "<table border=\"1\" class=\"dataframe\">\n",
       "  <thead>\n",
       "    <tr style=\"text-align: right;\">\n",
       "      <th></th>\n",
       "      <th>SpotPrice</th>\n",
       "    </tr>\n",
       "    <tr>\n",
       "      <th>Timestamp</th>\n",
       "      <th></th>\n",
       "    </tr>\n",
       "  </thead>\n",
       "  <tbody>\n",
       "    <tr>\n",
       "      <th>2024-10-17 06:00:00+00:00</th>\n",
       "      <td>0.0344</td>\n",
       "    </tr>\n",
       "    <tr>\n",
       "      <th>2024-10-17 07:00:00+00:00</th>\n",
       "      <td>NaN</td>\n",
       "    </tr>\n",
       "    <tr>\n",
       "      <th>2024-10-17 08:00:00+00:00</th>\n",
       "      <td>NaN</td>\n",
       "    </tr>\n",
       "    <tr>\n",
       "      <th>2024-10-17 09:00:00+00:00</th>\n",
       "      <td>NaN</td>\n",
       "    </tr>\n",
       "    <tr>\n",
       "      <th>2024-10-17 10:00:00+00:00</th>\n",
       "      <td>NaN</td>\n",
       "    </tr>\n",
       "    <tr>\n",
       "      <th>...</th>\n",
       "      <td>...</td>\n",
       "    </tr>\n",
       "    <tr>\n",
       "      <th>2025-01-13 21:00:00+00:00</th>\n",
       "      <td>NaN</td>\n",
       "    </tr>\n",
       "    <tr>\n",
       "      <th>2025-01-13 22:00:00+00:00</th>\n",
       "      <td>0.0385</td>\n",
       "    </tr>\n",
       "    <tr>\n",
       "      <th>2025-01-13 23:00:00+00:00</th>\n",
       "      <td>NaN</td>\n",
       "    </tr>\n",
       "    <tr>\n",
       "      <th>2025-01-14 00:00:00+00:00</th>\n",
       "      <td>NaN</td>\n",
       "    </tr>\n",
       "    <tr>\n",
       "      <th>2025-01-14 01:00:00+00:00</th>\n",
       "      <td>0.0386</td>\n",
       "    </tr>\n",
       "  </tbody>\n",
       "</table>\n",
       "<p>2132 rows × 1 columns</p>\n",
       "</div>"
      ],
      "text/plain": [
       "                           SpotPrice\n",
       "Timestamp                           \n",
       "2024-10-17 06:00:00+00:00     0.0344\n",
       "2024-10-17 07:00:00+00:00        NaN\n",
       "2024-10-17 08:00:00+00:00        NaN\n",
       "2024-10-17 09:00:00+00:00        NaN\n",
       "2024-10-17 10:00:00+00:00        NaN\n",
       "...                              ...\n",
       "2025-01-13 21:00:00+00:00        NaN\n",
       "2025-01-13 22:00:00+00:00     0.0385\n",
       "2025-01-13 23:00:00+00:00        NaN\n",
       "2025-01-14 00:00:00+00:00        NaN\n",
       "2025-01-14 01:00:00+00:00     0.0386\n",
       "\n",
       "[2132 rows x 1 columns]"
      ]
     },
     "execution_count": 32,
     "metadata": {},
     "output_type": "execute_result"
    }
   ],
   "source": [
    "## Setting the timestamp as index for plotting price trends\n",
    "uwta_m4.set_index('Timestamp',inplace=True)\n",
    "\n",
    "## dropping other columns \n",
    "for col in ['InstanceType', 'AvailabilityZone', 'ProductDescription']:\n",
    "    uwta_m4 = uwta_m4.drop(col, axis=1)\n",
    "\n",
    "## Converting the dtype of spot price to numberic\n",
    "uwta_m4['SpotPrice'] = uwta_m4['SpotPrice'].apply(pd.to_numeric)\n",
    "\n",
    "## resample the data with the required frequency\n",
    "uwta_m4_day = uwta_m4.resample('D').mean()\n",
    "\n",
    "## resampling with frequency hour\n",
    "uwta_m4_hour = uwta_m4.resample('H').mean()\n",
    "\n",
    "uwta_m4_hour"
   ]
  },
  {
   "cell_type": "code",
   "execution_count": 33,
   "id": "83c0a5eb-2f76-4e7d-a9df-7ea2fd93795f",
   "metadata": {},
   "outputs": [
    {
     "name": "stderr",
     "output_type": "stream",
     "text": [
      "/tmp/ipykernel_15570/321349966.py:1: FutureWarning: DataFrame.fillna with 'method' is deprecated and will raise in a future version. Use obj.ffill() or obj.bfill() instead.\n",
      "  uwta_m4_hour.fillna(method='ffill',inplace=True)\n"
     ]
    },
    {
     "data": {
      "text/html": [
       "<div>\n",
       "<style scoped>\n",
       "    .dataframe tbody tr th:only-of-type {\n",
       "        vertical-align: middle;\n",
       "    }\n",
       "\n",
       "    .dataframe tbody tr th {\n",
       "        vertical-align: top;\n",
       "    }\n",
       "\n",
       "    .dataframe thead th {\n",
       "        text-align: right;\n",
       "    }\n",
       "</style>\n",
       "<table border=\"1\" class=\"dataframe\">\n",
       "  <thead>\n",
       "    <tr style=\"text-align: right;\">\n",
       "      <th></th>\n",
       "      <th>SpotPrice</th>\n",
       "    </tr>\n",
       "    <tr>\n",
       "      <th>Timestamp</th>\n",
       "      <th></th>\n",
       "    </tr>\n",
       "  </thead>\n",
       "  <tbody>\n",
       "    <tr>\n",
       "      <th>2024-10-17 06:00:00+00:00</th>\n",
       "      <td>0.0344</td>\n",
       "    </tr>\n",
       "    <tr>\n",
       "      <th>2024-10-17 07:00:00+00:00</th>\n",
       "      <td>0.0344</td>\n",
       "    </tr>\n",
       "    <tr>\n",
       "      <th>2024-10-17 08:00:00+00:00</th>\n",
       "      <td>0.0344</td>\n",
       "    </tr>\n",
       "    <tr>\n",
       "      <th>2024-10-17 09:00:00+00:00</th>\n",
       "      <td>0.0344</td>\n",
       "    </tr>\n",
       "    <tr>\n",
       "      <th>2024-10-17 10:00:00+00:00</th>\n",
       "      <td>0.0344</td>\n",
       "    </tr>\n",
       "    <tr>\n",
       "      <th>...</th>\n",
       "      <td>...</td>\n",
       "    </tr>\n",
       "    <tr>\n",
       "      <th>2025-01-13 21:00:00+00:00</th>\n",
       "      <td>0.0384</td>\n",
       "    </tr>\n",
       "    <tr>\n",
       "      <th>2025-01-13 22:00:00+00:00</th>\n",
       "      <td>0.0385</td>\n",
       "    </tr>\n",
       "    <tr>\n",
       "      <th>2025-01-13 23:00:00+00:00</th>\n",
       "      <td>0.0385</td>\n",
       "    </tr>\n",
       "    <tr>\n",
       "      <th>2025-01-14 00:00:00+00:00</th>\n",
       "      <td>0.0385</td>\n",
       "    </tr>\n",
       "    <tr>\n",
       "      <th>2025-01-14 01:00:00+00:00</th>\n",
       "      <td>0.0386</td>\n",
       "    </tr>\n",
       "  </tbody>\n",
       "</table>\n",
       "<p>2132 rows × 1 columns</p>\n",
       "</div>"
      ],
      "text/plain": [
       "                           SpotPrice\n",
       "Timestamp                           \n",
       "2024-10-17 06:00:00+00:00     0.0344\n",
       "2024-10-17 07:00:00+00:00     0.0344\n",
       "2024-10-17 08:00:00+00:00     0.0344\n",
       "2024-10-17 09:00:00+00:00     0.0344\n",
       "2024-10-17 10:00:00+00:00     0.0344\n",
       "...                              ...\n",
       "2025-01-13 21:00:00+00:00     0.0384\n",
       "2025-01-13 22:00:00+00:00     0.0385\n",
       "2025-01-13 23:00:00+00:00     0.0385\n",
       "2025-01-14 00:00:00+00:00     0.0385\n",
       "2025-01-14 01:00:00+00:00     0.0386\n",
       "\n",
       "[2132 rows x 1 columns]"
      ]
     },
     "execution_count": 33,
     "metadata": {},
     "output_type": "execute_result"
    }
   ],
   "source": [
    "uwta_m4_hour.fillna(method='ffill',inplace=True)\n",
    "uwta_m4_hour"
   ]
  },
  {
   "cell_type": "code",
   "execution_count": 34,
   "id": "c5785a82-d5b7-477b-ad28-134ff510b8db",
   "metadata": {},
   "outputs": [
    {
     "data": {
      "text/plain": [
       "[<matplotlib.lines.Line2D at 0x774b72724380>]"
      ]
     },
     "execution_count": 34,
     "metadata": {},
     "output_type": "execute_result"
    },
    {
     "data": {
      "image/png": "[encoded data removed]",
      "text/plain": [
       "<Figure size 1500x600 with 1 Axes>"
      ]
     },
     "metadata": {},
     "output_type": "display_data"
    }
   ],
   "source": [
    "import matplotlib.pylab as plt\n",
    "%matplotlib inline\n",
    "from matplotlib.pylab import rcParams\n",
    "rcParams['figure.figsize'] = 15, 6\n",
    "\n",
    "## plotting for the day frequency; remember we did not fill the values for day frequency\n",
    "plt.plot(uwta_m4_day)"
   ]
  },
  {
   "cell_type": "code",
   "execution_count": 35,
   "id": "5be8eea0-9741-4f08-9264-d032c8ed4799",
   "metadata": {},
   "outputs": [
    {
     "data": {
      "text/plain": [
       "[<matplotlib.lines.Line2D at 0x774b7291d6a0>]"
      ]
     },
     "execution_count": 35,
     "metadata": {},
     "output_type": "execute_result"
    },
    {
     "data": {
      "image/png": "[encoded data removed]",
      "text/plain": [
       "<Figure size 1500x600 with 1 Axes>"
      ]
     },
     "metadata": {},
     "output_type": "display_data"
    }
   ],
   "source": [
    "plt.plot(uwta_m4_hour)"
   ]
  },
  {
   "cell_type": "code",
   "execution_count": 36,
   "id": "e6da1560-74b5-4732-88bb-13fab40735bc",
   "metadata": {},
   "outputs": [
    {
     "data": {
      "image/png": "[encoded data removed]",
      "text/plain": [
       "<Figure size 1500x600 with 1 Axes>"
      ]
     },
     "metadata": {},
     "output_type": "display_data"
    }
   ],
   "source": [
    "## Rolling statistics\n",
    "rolmean = uwta_m4_day.rolling(window = 7).mean()\n",
    "rolstd = uwta_m4_day.rolling(window = 7).std()\n",
    "\n",
    "## plot the results\n",
    "orig = plt.plot(uwta_m4_day, color='blue',label='Original')\n",
    "mean = plt.plot(rolmean, color='red', label='Rolling Mean')\n",
    "std = plt.plot(rolstd, color='black', label = 'Rolling Std')\n",
    "plt.legend(loc='best')\n",
    "plt.title('Rolling Mean & Standard Deviation')\n",
    "plt.show(block=False)"
   ]
  },
  {
   "cell_type": "markdown",
   "id": "f6f8c8e4-356d-4b2f-bd0c-3024efde4cc2",
   "metadata": {},
   "source": [
    "Test for stationarity   \n",
    "We can test the data for stationarity using the dickney Fuller test.\n",
    "\n"
   ]
  },
  {
   "cell_type": "code",
   "execution_count": 38,
   "id": "7d4fc7d9-9326-4c2f-9a7e-eb7bea033d24",
   "metadata": {},
   "outputs": [
    {
     "data": {
      "text/plain": [
       "Timestamp\n",
       "2024-10-17 00:00:00+00:00    0.034500\n",
       "2024-10-18 00:00:00+00:00    0.034900\n",
       "2024-10-19 00:00:00+00:00    0.035180\n",
       "2024-10-20 00:00:00+00:00    0.035600\n",
       "2024-10-21 00:00:00+00:00    0.035350\n",
       "                               ...   \n",
       "2025-01-10 00:00:00+00:00    0.037800\n",
       "2025-01-11 00:00:00+00:00    0.038333\n",
       "2025-01-12 00:00:00+00:00    0.038460\n",
       "2025-01-13 00:00:00+00:00    0.038350\n",
       "2025-01-14 00:00:00+00:00    0.038600\n",
       "Freq: D, Name: SpotPrice, Length: 90, dtype: float64"
      ]
     },
     "execution_count": 38,
     "metadata": {},
     "output_type": "execute_result"
    }
   ],
   "source": [
    "## Dickney Fuller test for stationarity\n",
    "from statsmodels.tsa.stattools import adfuller\n",
    "\n",
    "x = uwta_m4_day.SpotPrice\n",
    "x"
   ]
  },
  {
   "cell_type": "code",
   "execution_count": 39,
   "id": "30dd8c02-0f04-46dc-b4a7-95bfedcbe67d",
   "metadata": {},
   "outputs": [],
   "source": [
    "res = adfuller(x)"
   ]
  },
  {
   "cell_type": "code",
   "execution_count": 40,
   "id": "a8faba0c-9861-47b9-a3fa-2d0dff579207",
   "metadata": {},
   "outputs": [
    {
     "name": "stdout",
     "output_type": "stream",
     "text": [
      "Test Statistic                 -1.910780\n",
      "p-value                         0.327007\n",
      "#Lags Used                      5.000000\n",
      "Number of Observations Used    84.000000\n",
      "Critical Value (1%)            -3.510712\n",
      "Critical Value (5%)            -2.896616\n",
      "Critical Value (10%)           -2.585482\n",
      "dtype: float64\n"
     ]
    }
   ],
   "source": [
    "dfoutput = pd.Series(res[0:4], index=['Test Statistic','p-value','#Lags Used','Number of Observations Used'])\n",
    "for key,value in res[4].items():\n",
    "    dfoutput['Critical Value (%s)'%key] = value\n",
    "print(dfoutput)"
   ]
  },
  {
   "cell_type": "markdown",
   "id": "0da6e9dc-36f0-4512-864f-0575f1b06453",
   "metadata": {},
   "source": [
    "From the results we can be sure that the data we have is not stationary."
   ]
  },
  {
   "cell_type": "code",
   "execution_count": null,
   "id": "1279a6af-81d3-40ef-a0fa-2aab685e2617",
   "metadata": {},
   "outputs": [],
   "source": []
  }
 ],
 "metadata": {
  "kernelspec": {
   "display_name": "Python 3 (ipykernel)",
   "language": "python",
   "name": "python3"
  },
  "language_info": {
   "codemirror_mode": {
    "name": "ipython",
    "version": 3
   },
   "file_extension": ".py",
   "mimetype": "text/x-python",
   "name": "python",
   "nbconvert_exporter": "python",
   "pygments_lexer": "ipython3",
   "version": "3.12.3"
  }
 },
 "nbformat": 4,
 "nbformat_minor": 5
}
